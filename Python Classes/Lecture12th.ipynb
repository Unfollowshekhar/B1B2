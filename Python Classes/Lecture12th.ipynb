{
 "cells": [
  {
   "cell_type": "markdown",
   "id": "1bddb1c4-a100-425f-b529-9432839aa9f4",
   "metadata": {},
   "source": [
    "*Class 20-09-2024 (EXCEPTION HANDLING )*"
   ]
  },
  {
   "cell_type": "markdown",
   "id": "4032e5ba-bf7b-4276-b640-637f892d1668",
   "metadata": {},
   "source": [
    "*TRY AND EXCEPT BLOCK*"
   ]
  },
  {
   "cell_type": "code",
   "execution_count": 7,
   "id": "d53cf666-610f-4eae-ac9f-cdc83232351c",
   "metadata": {},
   "outputs": [
    {
     "name": "stdout",
     "output_type": "stream",
     "text": [
      "Cannot divide by zero!\n"
     ]
    }
   ],
   "source": [
    "try:\n",
    "    a = 5 / 0  # ZeroDivisionError\n",
    "    b = int(\"Hello\")  # ValueError\n",
    "except ZeroDivisionError:\n",
    "    print(\"Cannot divide by zero!\")\n",
    "except ValueError:\n",
    "    print(\"Invalid literal for int()!\")"
   ]
  },
  {
   "cell_type": "code",
   "execution_count": 9,
   "id": "68b73200-40a3-4a80-a860-904393604aed",
   "metadata": {},
   "outputs": [
    {
     "name": "stderr",
     "output_type": "stream",
     "text": [
      "<>:4: SyntaxWarning: assertion is always true, perhaps remove parentheses?\n",
      "<>:5: SyntaxWarning: assertion is always true, perhaps remove parentheses?\n",
      "<>:4: SyntaxWarning: assertion is always true, perhaps remove parentheses?\n",
      "<>:5: SyntaxWarning: assertion is always true, perhaps remove parentheses?\n",
      "C:\\Users\\HOme\\AppData\\Local\\Temp\\ipykernel_4960\\997598134.py:4: SyntaxWarning: assertion is always true, perhaps remove parentheses?\n",
      "  assert(x>5, \"x should be greater than 5!\")\n",
      "C:\\Users\\HOme\\AppData\\Local\\Temp\\ipykernel_4960\\997598134.py:5: SyntaxWarning: assertion is always true, perhaps remove parentheses?\n",
      "  assert(x>15, \"x should be greater than 5!\") # this wil raise assertionError\n"
     ]
    }
   ],
   "source": [
    "# Assert : if the programming given answer in False then it give assertion to the code\n",
    "\n",
    "x=10\n",
    "assert(x>5, \"x should be greater than 5!\")\n",
    "assert(x>15, \"x should be greater than 5!\") # this wil raise assertionError"
   ]
  },
  {
   "cell_type": "code",
   "execution_count": null,
   "id": "ce954495-65cb-41aa-8e62-ccf260d619f3",
   "metadata": {},
   "outputs": [],
   "source": []
  }
 ],
 "metadata": {
  "kernelspec": {
   "display_name": "Python 3 (ipykernel)",
   "language": "python",
   "name": "python3"
  },
  "language_info": {
   "codemirror_mode": {
    "name": "ipython",
    "version": 3
   },
   "file_extension": ".py",
   "mimetype": "text/x-python",
   "name": "python",
   "nbconvert_exporter": "python",
   "pygments_lexer": "ipython3",
   "version": "3.12.7"
  }
 },
 "nbformat": 4,
 "nbformat_minor": 5
}
