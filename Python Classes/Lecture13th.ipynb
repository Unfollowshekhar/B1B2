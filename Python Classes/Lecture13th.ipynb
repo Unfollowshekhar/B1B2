{
 "cells": [
  {
   "cell_type": "markdown",
   "id": "68c2abfd-acd0-4f96-b8f9-3bd8a22a2c24",
   "metadata": {},
   "source": [
    "**Leture 13**\n",
    "*24-09-2024*"
   ]
  },
  {
   "cell_type": "markdown",
   "id": "d40b5d29-d625-4ca0-b751-13f8429e9c64",
   "metadata": {},
   "source": [
    "*Download a file using request library*"
   ]
  },
  {
   "cell_type": "code",
   "execution_count": 5,
   "id": "facb46e8-55c2-4d0c-b9f8-74c72bf23d67",
   "metadata": {},
   "outputs": [],
   "source": [
    "import requests\n",
    "\n",
    "\n",
    "def download_file(url, file_name):\n",
    "    # Send a GET request to the provided URL\n",
    "    response = requests.get(url)\n",
    "    \n",
    "    # Check if the request was successful (status code 200)\n",
    "    if response.status_code == 200:\n",
    "        # Open a local file in binary write mode and save the content\n",
    "        with open(file_name, 'wb') as file:\n",
    "            file.write(response.content)\n",
    "        print(f\"File '{file_name}' downloaded successfully.\")\n",
    "    else:\n",
    "        print(f\"Failed to download file. Status code: {response.status_code}\")\n",
    "\n",
    "\n",
    "if __name__ == \"main\":\n",
    "    url = 'https://example.com/file.pdf'\n",
    "    file_name = 'file.pdf'\n",
    "    download_file(url, file_name)"
   ]
  }
 ],
 "metadata": {
  "kernelspec": {
   "display_name": "Python 3 (ipykernel)",
   "language": "python",
   "name": "python3"
  },
  "language_info": {
   "codemirror_mode": {
    "name": "ipython",
    "version": 3
   },
   "file_extension": ".py",
   "mimetype": "text/x-python",
   "name": "python",
   "nbconvert_exporter": "python",
   "pygments_lexer": "ipython3",
   "version": "3.12.7"
  }
 },
 "nbformat": 4,
 "nbformat_minor": 5
}
