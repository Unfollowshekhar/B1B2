{
 "cells": [
  {
   "cell_type": "markdown",
   "id": "d855bbf5-cda7-4532-a7e0-17d42d24183b",
   "metadata": {},
   "source": [
    "****Assignment 1st**** **Reuploaded Assignment**"
   ]
  },
  {
   "cell_type": "code",
   "execution_count": 2,
   "id": "1b60e86c-70b3-4487-bfb3-9900d377018a",
   "metadata": {},
   "outputs": [
    {
     "name": "stdout",
     "output_type": "stream",
     "text": [
      "Student Name: Shekhar Kumar Jha\n",
      "Subject: Introduction to Python\n",
      "3.12.7 | packaged by Anaconda, Inc. | (main, Oct  4 2024, 13:17:27) [MSC v.1929 64 bit (AMD64)]\n"
     ]
    }
   ],
   "source": [
    "import sys\n",
    "\n",
    "# Declaring and assigning the variable for student_name\n",
    "student_name = \"Shekhar Kumar Jha\"\n",
    "# Declaring and assigning the variable for subject\n",
    "subject = \"Introduction to Python\"\n",
    "\n",
    "# Printing the student's name and the course using f-strings\n",
    "print(f\"Student Name: {student_name}\")\n",
    "print(f\"Subject: {subject}\")\n",
    "\n",
    "# Printing the Python version in use\n",
    "print(sys.version)"
   ]
  },
  {
   "cell_type": "markdown",
   "id": "be4b4237-59c5-4d70-964b-8d7ab8910ac4",
   "metadata": {},
   "source": [
    "*Write a Python program that takes a user's first and last name as input and prints them in reverse order with a space between them.*"
   ]
  },
  {
   "cell_type": "code",
   "execution_count": 6,
   "id": "56dd92da-7aa5-4138-b953-11a84756203e",
   "metadata": {},
   "outputs": [
    {
     "name": "stdin",
     "output_type": "stream",
     "text": [
      "Enter your given name:  Shekhar Kumar Jha\n",
      "Enter your family name:  Shekhar\n"
     ]
    },
    {
     "name": "stdout",
     "output_type": "stream",
     "text": [
      "Reversed full name: Shekhar Shekhar Kumar Jha\n"
     ]
    }
   ],
   "source": [
    "# Get user's given name as input\n",
    "given_name = input(\"Enter your given name: \")\n",
    "\n",
    "# Get user's family name as input\n",
    "family_name = input(\"Enter your family name: \")\n",
    "\n",
    "# Combine both names in reverse order with a space in between\n",
    "reversed_name = family_name + \" \" + given_name\n",
    "\n",
    "# Print the reversed full name using the f-string method\n",
    "print(f\"Reversed full name: {reversed_name}\")"
   ]
  },
  {
   "cell_type": "markdown",
   "id": "f0446afb-9aba-47de-9085-34c08597b23e",
   "metadata": {},
   "source": [
    "*Use at least two string methods and explain their purpose in the comments.*"
   ]
  },
  {
   "cell_type": "code",
   "execution_count": 10,
   "id": "70055846-526d-4cb7-83b5-5fcafb12758b",
   "metadata": {},
   "outputs": [
    {
     "name": "stdout",
     "output_type": "stream",
     "text": [
      "Original string: ni hao ma.\n",
      "Uppercase string: NI HAO MA.\n",
      "Modified string: ni hao ma?\n"
     ]
    }
   ],
   "source": [
    "# This line assigns the string value \"ni hao ma.\" to the variable phrase\n",
    "phrase = \"ni hao ma.\"\n",
    "\n",
    "# Converts all characters in the string to uppercase\n",
    "uppercased_phrase = phrase.upper()\n",
    "\n",
    "# Replaces the period (.) with a question mark (?) in the string\n",
    "modified_phrase = phrase.replace(\".\", \"?\")\n",
    "\n",
    "# Print the results using the f-string method\n",
    "print(f\"Original string: {phrase}\")\n",
    "print(f\"Uppercase string: {uppercased_phrase}\")\n",
    "print(f\"Modified string: {modified_phrase}\")\n",
    "\n",
    "# Explanation:\n",
    "# upper() method: The upper() method is used to convert all characters in the string to uppercase. In this example, the variable uppercased_phrase stores the result of converting phrase to uppercase.\n",
    "\n",
    "# replace() method: The replace() method is used to replace a specified substring with another substring. Here, it replaces the period . with a question mark ? in the original string, resulting in the modified_phrase."
   ]
  },
  {
   "cell_type": "markdown",
   "id": "9c7a2711-c339-422d-939d-8ff06bb4cd41",
   "metadata": {},
   "source": [
    "*Write a Python program that takes an input number from the user, converts it to different numeric data types (integer, float, and complex), and displays the converted values.*"
   ]
  },
  {
   "cell_type": "code",
   "execution_count": 13,
   "id": "f6da571b-88ef-4c68-9023-b184f623657c",
   "metadata": {},
   "outputs": [
    {
     "name": "stdin",
     "output_type": "stream",
     "text": [
      "Enter a number:  2\n"
     ]
    },
    {
     "name": "stdout",
     "output_type": "stream",
     "text": [
      "Converted to int: 2\n",
      "Converted to float: 2.0\n",
      "Converted to complex: (2+0j)\n"
     ]
    }
   ],
   "source": [
    "# Take an input number from the user\n",
    "user_input = input(\"Enter a number: \")\n",
    "\n",
    "# Convert the input to an integer (whole number)\n",
    "integer_value = int(user_input)  # Represents whole numbers\n",
    "\n",
    "# Convert the input to a float (real number with a decimal point)\n",
    "float_value = float(user_input)  # Represents real numbers with a decimal point\n",
    "\n",
    "# Convert the input to a complex number (in the form of a + bj)\n",
    "complex_value = complex(user_input)  # Represents complex numbers in the form (a + bj), where a is the real part and b is the imaginary part\n",
    "\n",
    "# Print the converted values\n",
    "print(f\"Converted to int: {integer_value}\")\n",
    "print(f\"Converted to float: {float_value}\")\n",
    "print(f\"Converted to complex: {complex_value}\")"
   ]
  },
  {
   "cell_type": "markdown",
   "id": "675db298-d29a-475d-947e-695dce699fcc",
   "metadata": {},
   "source": [
    "*Create a Python script that calculates the area of a rectangle.*\n"
   ]
  },
  {
   "cell_type": "code",
   "execution_count": 16,
   "id": "d747b701-5473-4fd8-967f-e97f2755966c",
   "metadata": {},
   "outputs": [
    {
     "name": "stdin",
     "output_type": "stream",
     "text": [
      "Enter the length of the rectangle:  12\n",
      "Enter the width of the rectangle:  13\n"
     ]
    },
    {
     "name": "stdout",
     "output_type": "stream",
     "text": [
      "The area of the rectangle is: 156.0\n"
     ]
    }
   ],
   "source": [
    "# Take the length as input from the user\n",
    "rect_length = float(input(\"Enter the length of the rectangle: \"))\n",
    "\n",
    "# Take the width as input from the user\n",
    "rect_width = float(input(\"Enter the width of the rectangle: \"))\n",
    "\n",
    "# Calculate the area of the rectangle (length * width)\n",
    "rectangle_area = rect_length * rect_width\n",
    "\n",
    "# Display the result using the f-string method\n",
    "print(f\"The area of the rectangle is: {rectangle_area}\")"
   ]
  },
  {
   "cell_type": "markdown",
   "id": "faed0e7e-79bc-4b0d-a8da-8242bfe24b8b",
   "metadata": {},
   "source": [
    "*Write a Python script that takes three numbers as input and prints their average using the % method for string formatting. Also, use the print function to display a message that states, \"The average of the three numbers is: [calculated average]\".*"
   ]
  },
  {
   "cell_type": "code",
   "execution_count": 23,
   "id": "bc04f726-7292-4506-a72a-c1ad5026e40b",
   "metadata": {},
   "outputs": [
    {
     "name": "stdin",
     "output_type": "stream",
     "text": [
      "Enter the first number here:  12\n",
      "Enter the second number here:  11\n",
      "Enter the third number here:  43\n"
     ]
    },
    {
     "name": "stdout",
     "output_type": "stream",
     "text": [
      "The average of the three numbers is: 22.00\n"
     ]
    }
   ],
   "source": [
    "#Taking three numbers as input from the user\n",
    "num1 = input(\"Enter the first number here: \")\n",
    "num2 = input(\"Enter the second number here: \")\n",
    "num3 = input(\"Enter the third number here: \")\n",
    "\n",
    "try:\n",
    "    #convering input to float\n",
    "    num1 = float(num1)\n",
    "    num2 = float(num2)\n",
    "    num3 = float(num3)\n",
    "    \n",
    "    # Calculating the average\n",
    "    average = (num1 + num2 + num3) / 3\n",
    "\n",
    "    # Printing the average using % formatting\n",
    "    print(\"The average of the three numbers is: %.2f\" % average)\n",
    "\n",
    "except ValueError:\n",
    "    print(\"Invalid input. Please enter a valid numeric value.\")\n",
    "    "
   ]
  },
  {
   "cell_type": "markdown",
   "id": "d7364d5a-b9c7-4a9c-a849-fce065b3a33c",
   "metadata": {},
   "source": [
    "*Write a Python program that asks the user for a number and determines whether it is positive, negative, or zero,Implement a loop that continues to ask the user for a number until they enter 'exit'. Use break to exit the loop and continue to prompt for a new number if the input is not 'exit'.*"
   ]
  },
  {
   "cell_type": "code",
   "execution_count": 26,
   "id": "6b96b5b3-1b43-4221-94b2-39dae52d2f13",
   "metadata": {},
   "outputs": [
    {
     "name": "stdin",
     "output_type": "stream",
     "text": [
      "Enter a number here (or 'exit' to quit):  34\n"
     ]
    },
    {
     "name": "stdout",
     "output_type": "stream",
     "text": [
      "It is Positive number\n"
     ]
    },
    {
     "name": "stdin",
     "output_type": "stream",
     "text": [
      "Enter a number here (or 'exit' to quit):  -23\n"
     ]
    },
    {
     "name": "stdout",
     "output_type": "stream",
     "text": [
      "It is Negative number\n"
     ]
    },
    {
     "name": "stdin",
     "output_type": "stream",
     "text": [
      "Enter a number here (or 'exit' to quit):  exit\n"
     ]
    },
    {
     "name": "stdout",
     "output_type": "stream",
     "text": [
      "Exiting the program.\n"
     ]
    }
   ],
   "source": [
    "# Initialize the loop\n",
    "while True:\n",
    "    # takes the user's input\n",
    "    input_num = input(\"Enter a number here (or 'exit' to quit): \")\n",
    "\n",
    "    # Check if the user wants to exit\n",
    "    if input_num.lower() == 'exit':\n",
    "        print(\"Exiting the program.\")\n",
    "        \n",
    "        break\n",
    "\n",
    "    try:\n",
    "        # Convert input_num to a floating-point number\n",
    "        number = float(input_num)\n",
    "        \n",
    "        # finding the number is positive, negative, or zero\n",
    "        if number > 0:\n",
    "            print(\"It is Positive number\")\n",
    "        elif number < 0:\n",
    "            print(\"It is Negative number\")\n",
    "        else:\n",
    "            print(\"Zero\")\n",
    "    except ValueError:\n",
    "        # Handle invalid input (non-numeric or empty input)\n",
    "        print(\"Invalid input.\")"
   ]
  },
  {
   "cell_type": "markdown",
   "id": "18253ef4-0810-4c69-a306-fdf7662c357c",
   "metadata": {},
   "source": [
    "*Create a Python script that takes two numbers as input and prints whether both numbers are even, odd, or one of each using relational and logical operators.*"
   ]
  },
  {
   "cell_type": "code",
   "execution_count": 29,
   "id": "5c3408cf-1dd5-46b4-8f05-69f58d07c283",
   "metadata": {},
   "outputs": [
    {
     "name": "stdin",
     "output_type": "stream",
     "text": [
      "Enter the first number:  12\n",
      "Enter the second number:  12\n"
     ]
    },
    {
     "name": "stdout",
     "output_type": "stream",
     "text": [
      "Both of the numbers are even.\n"
     ]
    }
   ],
   "source": [
    "# Take two numbers as input from the user\n",
    "first_num = int(input(\"Enter the first number: \"))\n",
    "second_num = int(input(\"Enter the second number: \"))\n",
    "\n",
    "# Check if both numbers are even, both are odd, or one of each using the bitwise AND operator\n",
    "if first_num & 1 == 0 and second_num & 1 == 0:\n",
    "    print(\"Both of the numbers are even.\")\n",
    "elif first_num & 1 != 0 and second_num & 1 != 0:\n",
    "    print(\"Both of the numbers are odd.\")\n",
    "else:\n",
    "    print(\"One number is even and the other is odd.\")"
   ]
  },
  {
   "cell_type": "markdown",
   "id": "ff909ab2-3466-4ba6-ba48-66f2ff3343a0",
   "metadata": {},
   "source": [
    "*Write a Python program that takes an integer input and prints its binary, octal, and hexadecimal equivalents using a for loop and bitwise operators.*"
   ]
  },
  {
   "cell_type": "code",
   "execution_count": 32,
   "id": "4c99b796-246e-4d9d-a24e-340c0fe4fe0b",
   "metadata": {},
   "outputs": [
    {
     "name": "stdin",
     "output_type": "stream",
     "text": [
      "Enter an integer:  34\n"
     ]
    },
    {
     "name": "stdout",
     "output_type": "stream",
     "text": [
      "Binary equivalent: 100010\n",
      "Octal equivalent: 42\n",
      "Hexadecimal equivalent: 22\n"
     ]
    }
   ],
   "source": [
    "# Get integer input from the user\n",
    "num = int(input(\"Enter an integer: \"))\n",
    "\n",
    "# Initialize an empty string to store the binary equivalent\n",
    "binary = \"\"\n",
    "\n",
    "# Loop through each bit from the most significant to the least significant\n",
    "for shift in range(num.bit_length() - 1, -1, -1):\n",
    "    # Append '1' or '0' based on whether the bit at the current position is set\n",
    "    binary += \"1\" if (num & (1 << shift)) else \"0\"\n",
    "\n",
    "# Remove leading zeros from the binary string or default to \"0\" if the string is empty\n",
    "binary = binary.lstrip(\"0\") or \"0\"\n",
    "\n",
    "# Use Python's built-in functions to generate octal and hexadecimal equivalents\n",
    "octal = format(num, 'o')\n",
    "hexadecimal = format(num, 'x')\n",
    "\n",
    "# Print the results\n",
    "print(f\"Binary equivalent: {binary}\")\n",
    "print(f\"Octal equivalent: {octal}\")\n",
    "print(f\"Hexadecimal equivalent: {hexadecimal}\")"
   ]
  },
  {
   "cell_type": "markdown",
   "id": "681ed63d-b036-4ca7-8fc1-47444254339c",
   "metadata": {},
   "source": []
  }
 ],
 "metadata": {
  "kernelspec": {
   "display_name": "Python 3 (ipykernel)",
   "language": "python",
   "name": "python3"
  },
  "language_info": {
   "codemirror_mode": {
    "name": "ipython",
    "version": 3
   },
   "file_extension": ".py",
   "mimetype": "text/x-python",
   "name": "python",
   "nbconvert_exporter": "python",
   "pygments_lexer": "ipython3",
   "version": "3.12.7"
  }
 },
 "nbformat": 4,
 "nbformat_minor": 5
}
